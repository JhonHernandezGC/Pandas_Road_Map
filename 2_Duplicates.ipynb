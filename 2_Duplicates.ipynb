{
 "cells": [
  {
   "cell_type": "markdown",
   "id": "32e59a8f",
   "metadata": {},
   "source": [
    "## Removing Duplicates and Handling Missing Values"
   ]
  },
  {
   "cell_type": "code",
   "execution_count": null,
   "id": "c3bca385",
   "metadata": {},
   "outputs": [],
   "source": [
    "import pandas as pd\n",
    "\n",
    "# Load dataset\n",
    "df = pd.read_excel(\"raw_data.xlsx\")"
   ]
  },
  {
   "cell_type": "code",
   "execution_count": null,
   "id": "3186066b",
   "metadata": {},
   "outputs": [],
   "source": [
    "# Basic cleaning\n",
    "df = df.drop_duplicates()                 # \n",
    "df = df.fillna(\"MISSING\")                 # \n",
    "df['Visit_Date'] = pd.to_datetime(df['Visit_Date']) "
   ]
  },
  {
   "cell_type": "code",
   "execution_count": null,
   "id": "7cfe8f24",
   "metadata": {},
   "outputs": [],
   "source": [
    "# Export cleaned data\n",
    "df.to_excel(\"cleaned_data.xlsx\", index=False)"
   ]
  },
  {
   "cell_type": "code",
   "execution_count": null,
   "id": "136741d9",
   "metadata": {},
   "outputs": [],
   "source": []
  }
 ],
 "metadata": {
  "language_info": {
   "name": "python"
  }
 },
 "nbformat": 4,
 "nbformat_minor": 5
}
